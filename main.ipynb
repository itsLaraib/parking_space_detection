{
 "cells": [
  {
   "cell_type": "code",
   "execution_count": 2,
   "metadata": {},
   "outputs": [],
   "source": [
    "import cv2 as cv\n",
    "import pickle\n",
    "import numpy as np "
   ]
  },
  {
   "cell_type": "code",
   "execution_count": 95,
   "metadata": {},
   "outputs": [],
   "source": [
    "\n",
    "\n",
    "width,height=107,48\n",
    "posList=[]  \n",
    "\n",
    "with open('CarPark','rb') as f:\n",
    "        posList=pickle.load(f)\n",
    "\n",
    "\n",
    "\n",
    "def checkParkingSpace(imgProcess):\n",
    "   counter=0\n",
    "   for pos in posList:\n",
    "        x,y=pos\n",
    "        imgCrop=imgProcess[y:y+height,x:x+width]\n",
    "        pexles=cv.countNonZero(imgCrop)\n",
    "        if pexles<=800:\n",
    "            color=(0,255,0)\n",
    "            counter+=1\n",
    "        elif pexles>800:\n",
    "            color=(255,0,255)\n",
    "        cv.putText(img,str(int(pexles)),(x+2,y+height-6),cv.FONT_HERSHEY_DUPLEX,0.5,color,1)\n",
    "        cv.rectangle(img,(x,y),(x+width,y+height),color,3)\n",
    "   \n",
    "   cv.putText(img,str(f'Total Space: {len(posList)}'),(10,30),cv.FONT_HERSHEY_DUPLEX,1,(0,255,0),2)\n",
    "   cv.putText(img,str(f'Empty Space: {counter}'),(10,70),cv.FONT_HERSHEY_DUPLEX,1,(0,255,0),2)\n",
    "      #   cv.imshow(f'{i}',imgProcess)\n",
    "\n",
    "\n",
    "\n",
    "\n",
    "totalSpace=len(posList)\n",
    "cap=cv.VideoCapture('carPark.mp4')\n",
    "while True:\n",
    "   if cap.get(cv.CAP_PROP_POS_FRAMES)==cap.get(cv.CAP_PROP_FRAME_COUNT):\n",
    "      cap.set(cv.CAP_PROP_POS_FRAMES,0)\n",
    "   success,img=cap.read() \n",
    "\n",
    "   #Image Processing\n",
    "   imgGray=cv.cvtColor(img,cv.COLOR_BGR2GRAY)\n",
    "   imgBlur=cv.GaussianBlur(imgGray,(3,3),1)\n",
    "   imgThreshold=cv.adaptiveThreshold(imgBlur,255,cv.ADAPTIVE_THRESH_GAUSSIAN_C,cv.THRESH_BINARY_INV,25,16)\n",
    "   #to remove the noise \n",
    "   imgMedianBlur=cv.medianBlur(imgThreshold,5)\n",
    "   #making the white area a little bit thicker to make it easily detectable\n",
    "   kernel=np.ones((3,3),np.uint8)\n",
    "   imgDilate=cv.dilate(imgMedianBlur,kernel,iterations=1)\n",
    "\n",
    "\n",
    "   for pos in posList:\n",
    "        x,y=pos\n",
    "        cv.rectangle(img,(x,y),(x+width,y+height),(255,0,255),2)\n",
    "\n",
    "   # print(len(posList))\n",
    "   checkParkingSpace(imgDilate)\n",
    "   # cv.imshow('Thresh',imgThreshold)\n",
    "   cv.imshow('Video',img)\n",
    "\n",
    "   if cv.waitKey(10) & 0xFF==ord('d'):\n",
    "      break\n",
    "   \n",
    "\n",
    "cv.destroyAllWindows()"
   ]
  }
 ],
 "metadata": {
  "kernelspec": {
   "display_name": "myenv",
   "language": "python",
   "name": "python3"
  },
  "language_info": {
   "codemirror_mode": {
    "name": "ipython",
    "version": 3
   },
   "file_extension": ".py",
   "mimetype": "text/x-python",
   "name": "python",
   "nbconvert_exporter": "python",
   "pygments_lexer": "ipython3",
   "version": "0.0.0"
  }
 },
 "nbformat": 4,
 "nbformat_minor": 2
}
